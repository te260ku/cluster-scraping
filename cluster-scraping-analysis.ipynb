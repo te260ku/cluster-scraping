{
 "metadata": {
  "language_info": {
   "codemirror_mode": {
    "name": "ipython",
    "version": 3
   },
   "file_extension": ".py",
   "mimetype": "text/x-python",
   "name": "python",
   "nbconvert_exporter": "python",
   "pygments_lexer": "ipython3",
   "version": "3.7.0-final"
  },
  "orig_nbformat": 2,
  "kernelspec": {
   "name": "python3",
   "display_name": "Python 3.7.0 64-bit ('3.7.0')",
   "metadata": {
    "interpreter": {
     "hash": "5647b2cf1cd25c1a699782514dc2d5cdcb56a90d15854254dc8d39904953a22f"
    }
   }
  }
 },
 "nbformat": 4,
 "nbformat_minor": 2,
 "cells": [
  {
   "cell_type": "code",
   "execution_count": 1,
   "metadata": {},
   "outputs": [],
   "source": [
    "import numpy as np\n",
    "import pandas as pd\n",
    "import matplotlib.pyplot as plt\n",
    "import seaborn as sns\n",
    "\n",
    "%precision 3\n",
    "%matplotlib inline"
   ]
  },
  {
   "cell_type": "code",
   "execution_count": 2,
   "metadata": {},
   "outputs": [],
   "source": [
    "sns.set()\n",
    "sns.set_style('darkgrid',{\"axes.facecolor\": \".9\"})\n",
    "sns.set_context('notebook')"
   ]
  },
  {
   "cell_type": "code",
   "execution_count": 3,
   "metadata": {},
   "outputs": [
    {
     "output_type": "execute_result",
     "data": {
      "text/plain": [
       "                         name    like         creator  size  \\\n",
       "0  OIBC 卒制展2021 展示会場(シアタールーム)   2 いいね  OIBC 卒制展 実行委員会   4MB   \n",
       "1             ロングランジャンプ「宇宙へ…」  24 いいね            ガルペノ   3MB   \n",
       "2      OIBC 卒制展2021 展示会場(ゲーム)   4 いいね  OIBC 卒制展 実行委員会  66MB   \n",
       "\n",
       "                 date  \n",
       "0  2021/2/26（金） 17:17  \n",
       "1  2021/2/26（金） 17:02  \n",
       "2  2021/2/26（金） 15:43  "
      ],
      "text/html": "<div>\n<style scoped>\n    .dataframe tbody tr th:only-of-type {\n        vertical-align: middle;\n    }\n\n    .dataframe tbody tr th {\n        vertical-align: top;\n    }\n\n    .dataframe thead th {\n        text-align: right;\n    }\n</style>\n<table border=\"1\" class=\"dataframe\">\n  <thead>\n    <tr style=\"text-align: right;\">\n      <th></th>\n      <th>name</th>\n      <th>like</th>\n      <th>creator</th>\n      <th>size</th>\n      <th>date</th>\n    </tr>\n  </thead>\n  <tbody>\n    <tr>\n      <th>0</th>\n      <td>OIBC 卒制展2021 展示会場(シアタールーム)</td>\n      <td>2 いいね</td>\n      <td>OIBC 卒制展 実行委員会</td>\n      <td>4MB</td>\n      <td>2021/2/26（金） 17:17</td>\n    </tr>\n    <tr>\n      <th>1</th>\n      <td>ロングランジャンプ「宇宙へ…」</td>\n      <td>24 いいね</td>\n      <td>ガルペノ</td>\n      <td>3MB</td>\n      <td>2021/2/26（金） 17:02</td>\n    </tr>\n    <tr>\n      <th>2</th>\n      <td>OIBC 卒制展2021 展示会場(ゲーム)</td>\n      <td>4 いいね</td>\n      <td>OIBC 卒制展 実行委員会</td>\n      <td>66MB</td>\n      <td>2021/2/26（金） 15:43</td>\n    </tr>\n  </tbody>\n</table>\n</div>"
     },
     "metadata": {},
     "execution_count": 3
    }
   ],
   "source": [
    "df = pd.read_csv('data/sample.csv')\n",
    "df[:3]"
   ]
  },
  {
   "cell_type": "code",
   "execution_count": null,
   "metadata": {},
   "outputs": [],
   "source": []
  }
 ]
}